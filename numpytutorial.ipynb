{
  "nbformat": 4,
  "nbformat_minor": 0,
  "metadata": {
    "colab": {
      "provenance": [],
      "authorship_tag": "ABX9TyNgsSDj6owvapNEwaDHldn4",
      "include_colab_link": true
    },
    "kernelspec": {
      "name": "python3",
      "display_name": "Python 3"
    },
    "language_info": {
      "name": "python"
    }
  },
  "cells": [
    {
      "cell_type": "markdown",
      "metadata": {
        "id": "view-in-github",
        "colab_type": "text"
      },
      "source": [
        "<a href=\"https://colab.research.google.com/github/SUYAMBULAKSHMI-VENKATESAN/DAMAKA/blob/main/numpytutorial.ipynb\" target=\"_parent\"><img src=\"https://colab.research.google.com/assets/colab-badge.svg\" alt=\"Open In Colab\"/></a>"
      ]
    },
    {
      "cell_type": "code",
      "execution_count": 2,
      "metadata": {
        "id": "RJXg_uzO2HZS"
      },
      "outputs": [],
      "source": [
        "#before using libraries , lib has to be created first, for that in cmd prompt , pip install numpy , it will install, then come back to the code page give command as import numpy\n",
        "#json - dictionary format - java script\n",
        "\n",
        "\n",
        "import numpy as np#for data cleaning process - if not - accuracy less - process numerical data - list[any data type] - allow homogenious only(numpy - low memory usage )- allows hetterogenous(list)(high memory usage) - c, c++\n",
        "import pandas as pd#for data cleaning process - if not - accuracy less - dataframe (forms columns)\n",
        "import matplotlib #visualization\n",
        "import sklearn #tensorflow\n",
        "\n",
        "\n",
        "#numpy in n-dimentional array\n",
        "\n",
        "# 0 dimentio - single value array\n",
        "# 1 dim - more than one\n",
        "# 2 dim - [[ ],[ ]] list kula list"
      ]
    },
    {
      "cell_type": "code",
      "source": [
        "np.array(20) #zero dimentional"
      ],
      "metadata": {
        "colab": {
          "base_uri": "https://localhost:8080/"
        },
        "id": "9f7EisIU2Ims",
        "outputId": "10581c5d-cc15-4ec7-eb9b-52fcccffe146"
      },
      "execution_count": 3,
      "outputs": [
        {
          "output_type": "execute_result",
          "data": {
            "text/plain": [
              "array(20)"
            ]
          },
          "metadata": {},
          "execution_count": 3
        }
      ]
    },
    {
      "cell_type": "code",
      "source": [
        "np.array([4,7,8,14,20]) #one dimentional array"
      ],
      "metadata": {
        "colab": {
          "base_uri": "https://localhost:8080/"
        },
        "id": "FSUDjKSb9awU",
        "outputId": "a6461e1a-b9c1-4c30-c321-4c9db885916f"
      },
      "execution_count": 4,
      "outputs": [
        {
          "output_type": "execute_result",
          "data": {
            "text/plain": [
              "array([ 4,  7,  8, 14, 20])"
            ]
          },
          "metadata": {},
          "execution_count": 4
        }
      ]
    },
    {
      "cell_type": "code",
      "source": [
        "a=np.array([[1,2,3],[4,5,6]]) #two dimentional array"
      ],
      "metadata": {
        "id": "QIBEhFfG9pN3"
      },
      "execution_count": 6,
      "outputs": []
    },
    {
      "cell_type": "code",
      "source": [
        "# if i wanna convert this 2 dimentional array into 3 dimentional array\n",
        "np.array([[1,2,3],[4,5,6]]) #no of square bracket = no of dimentional array"
      ],
      "metadata": {
        "colab": {
          "base_uri": "https://localhost:8080/"
        },
        "id": "9vXNyBuy9-Ec",
        "outputId": "c1073b5e-85e9-4a1f-bb57-fdcc2ce4e28c"
      },
      "execution_count": 7,
      "outputs": [
        {
          "output_type": "execute_result",
          "data": {
            "text/plain": [
              "array([[1, 2, 3],\n",
              "       [4, 5, 6]])"
            ]
          },
          "metadata": {},
          "execution_count": 7
        }
      ]
    },
    {
      "cell_type": "code",
      "source": [
        "a.ndim\n"
      ],
      "metadata": {
        "colab": {
          "base_uri": "https://localhost:8080/"
        },
        "id": "Hrn070gX_TEi",
        "outputId": "2f8aca30-8666-4545-c778-51ce57c1ea59"
      },
      "execution_count": 9,
      "outputs": [
        {
          "output_type": "execute_result",
          "data": {
            "text/plain": [
              "2"
            ]
          },
          "metadata": {},
          "execution_count": 9
        }
      ]
    },
    {
      "cell_type": "code",
      "source": [
        "a.shape"
      ],
      "metadata": {
        "colab": {
          "base_uri": "https://localhost:8080/"
        },
        "id": "63bg0NSR_rH6",
        "outputId": "7afa5d15-20a1-4867-cd96-e4a4aacfec89"
      },
      "execution_count": 10,
      "outputs": [
        {
          "output_type": "execute_result",
          "data": {
            "text/plain": [
              "(2, 3)"
            ]
          },
          "metadata": {},
          "execution_count": 10
        }
      ]
    },
    {
      "cell_type": "code",
      "source": [
        "a.size"
      ],
      "metadata": {
        "colab": {
          "base_uri": "https://localhost:8080/"
        },
        "id": "PHS0H20E_sjR",
        "outputId": "cbb3c9c1-3693-47a7-fde4-a6c7bee601a5"
      },
      "execution_count": 11,
      "outputs": [
        {
          "output_type": "execute_result",
          "data": {
            "text/plain": [
              "6"
            ]
          },
          "metadata": {},
          "execution_count": 11
        }
      ]
    },
    {
      "cell_type": "code",
      "source": [
        "#hands on\n",
        "\n",
        "array1=np.array([1,2,3,4,5])\n",
        "array2=np.array([6,7,8,9,10])\n",
        "\n",
        "print(\"ARITHMETIC OPERATIONS\")\n",
        "\n",
        "print(\"ADDITION = \", array1 + array2)\n",
        "print(\"SUBTRACTION = \", array1 - array2)\n",
        "print(\"MULTIPLICATION = \", array1 * array2)\n",
        "print(\"DIVISION = \", array1 / array2)"
      ],
      "metadata": {
        "colab": {
          "base_uri": "https://localhost:8080/"
        },
        "id": "QSNW10B8_wGC",
        "outputId": "53dbc769-cb16-4d88-c866-d67d3b01a4c7"
      },
      "execution_count": 12,
      "outputs": [
        {
          "output_type": "stream",
          "name": "stdout",
          "text": [
            "ARITHMETIC OPERATIONS\n",
            "ADDITION =  [ 7  9 11 13 15]\n",
            "SUBTRACTION =  [-5 -5 -5 -5 -5]\n",
            "MULTIPLICATION =  [ 6 14 24 36 50]\n",
            "DIVISION =  [0.16666667 0.28571429 0.375      0.44444444 0.5       ]\n"
          ]
        }
      ]
    },
    {
      "cell_type": "code",
      "source": [
        "np.max(array1)"
      ],
      "metadata": {
        "colab": {
          "base_uri": "https://localhost:8080/"
        },
        "id": "WyaJa4jFAu7L",
        "outputId": "f5a47044-69c2-4591-a40f-9ab681afe1b2"
      },
      "execution_count": 16,
      "outputs": [
        {
          "output_type": "execute_result",
          "data": {
            "text/plain": [
              "5"
            ]
          },
          "metadata": {},
          "execution_count": 16
        }
      ]
    },
    {
      "cell_type": "code",
      "source": [
        "np.min(array2)"
      ],
      "metadata": {
        "colab": {
          "base_uri": "https://localhost:8080/"
        },
        "id": "I_rQcgarBWeB",
        "outputId": "e80648b2-d4af-4c55-d8c4-5310e29824a9"
      },
      "execution_count": 17,
      "outputs": [
        {
          "output_type": "execute_result",
          "data": {
            "text/plain": [
              "6"
            ]
          },
          "metadata": {},
          "execution_count": 17
        }
      ]
    }
  ]
}