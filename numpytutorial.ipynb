{
  "nbformat": 4,
  "nbformat_minor": 0,
  "metadata": {
    "colab": {
      "provenance": [],
      "authorship_tag": "ABX9TyOfGl5XBZ62vU1hMCgGhKYA",
      "include_colab_link": true
    },
    "kernelspec": {
      "name": "python3",
      "display_name": "Python 3"
    },
    "language_info": {
      "name": "python"
    }
  },
  "cells": [
    {
      "cell_type": "markdown",
      "metadata": {
        "id": "view-in-github",
        "colab_type": "text"
      },
      "source": [
        "<a href=\"https://colab.research.google.com/github/SUYAMBULAKSHMI-VENKATESAN/DAMAKA/blob/main/numpytutorial.ipynb\" target=\"_parent\"><img src=\"https://colab.research.google.com/assets/colab-badge.svg\" alt=\"Open In Colab\"/></a>"
      ]
    },
    {
      "cell_type": "code",
      "execution_count": 2,
      "metadata": {
        "id": "RJXg_uzO2HZS"
      },
      "outputs": [],
      "source": [
        "#before using libraries , lib has to be created first, for that in cmd prompt , pip install numpy , it will install, then come back to the code page give command as import numpy\n",
        "#json - dictionary format - java script\n",
        "\n",
        "\n",
        "import numpy as np#for data cleaning process - if not - accuracy less - process numerical data - list[any data type] - allow homogenious only(numpy - low memory usage )- allows hetterogenous(list)(high memory usage) - c, c++\n",
        "import pandas as pd#for data cleaning process - if not - accuracy less - dataframe (forms columns)\n",
        "import matplotlib #visualization\n",
        "import sklearn #tensorflow\n",
        "\n",
        "\n",
        "#numpy in n-dimentional array\n",
        "\n",
        "# 0 dimentio - single value array\n",
        "# 1 dim - more than one\n",
        "# 2 dim - [[ ],[ ]] list kula list"
      ]
    },
    {
      "cell_type": "code",
      "source": [
        "np.array(20) #zero dimentional"
      ],
      "metadata": {
        "colab": {
          "base_uri": "https://localhost:8080/"
        },
        "id": "9f7EisIU2Ims",
        "outputId": "10581c5d-cc15-4ec7-eb9b-52fcccffe146"
      },
      "execution_count": 3,
      "outputs": [
        {
          "output_type": "execute_result",
          "data": {
            "text/plain": [
              "array(20)"
            ]
          },
          "metadata": {},
          "execution_count": 3
        }
      ]
    },
    {
      "cell_type": "code",
      "source": [
        "np.array([4,7,8,14,20]) #one dimentional array"
      ],
      "metadata": {
        "colab": {
          "base_uri": "https://localhost:8080/"
        },
        "id": "FSUDjKSb9awU",
        "outputId": "a6461e1a-b9c1-4c30-c321-4c9db885916f"
      },
      "execution_count": 4,
      "outputs": [
        {
          "output_type": "execute_result",
          "data": {
            "text/plain": [
              "array([ 4,  7,  8, 14, 20])"
            ]
          },
          "metadata": {},
          "execution_count": 4
        }
      ]
    },
    {
      "cell_type": "code",
      "source": [
        "a=np.array([[1,2,3],[4,5,6]]) #two dimentional array\n",
        "b=np.array([[10,20,30],[40,50,60]])"
      ],
      "metadata": {
        "id": "QIBEhFfG9pN3"
      },
      "execution_count": 44,
      "outputs": []
    },
    {
      "cell_type": "code",
      "source": [
        "# if i wanna convert this 2 dimentional array into 3 dimentional array\n",
        "np.array([[1,2,3],[4,5,6]]) #no of square bracket = no of dimentional array"
      ],
      "metadata": {
        "colab": {
          "base_uri": "https://localhost:8080/"
        },
        "id": "9vXNyBuy9-Ec",
        "outputId": "c1073b5e-85e9-4a1f-bb57-fdcc2ce4e28c"
      },
      "execution_count": 7,
      "outputs": [
        {
          "output_type": "execute_result",
          "data": {
            "text/plain": [
              "array([[1, 2, 3],\n",
              "       [4, 5, 6]])"
            ]
          },
          "metadata": {},
          "execution_count": 7
        }
      ]
    },
    {
      "cell_type": "code",
      "source": [
        "a.ndim\n"
      ],
      "metadata": {
        "colab": {
          "base_uri": "https://localhost:8080/"
        },
        "id": "Hrn070gX_TEi",
        "outputId": "2f8aca30-8666-4545-c778-51ce57c1ea59"
      },
      "execution_count": 9,
      "outputs": [
        {
          "output_type": "execute_result",
          "data": {
            "text/plain": [
              "2"
            ]
          },
          "metadata": {},
          "execution_count": 9
        }
      ]
    },
    {
      "cell_type": "code",
      "source": [
        "a.shape"
      ],
      "metadata": {
        "colab": {
          "base_uri": "https://localhost:8080/"
        },
        "id": "63bg0NSR_rH6",
        "outputId": "7afa5d15-20a1-4867-cd96-e4a4aacfec89"
      },
      "execution_count": 10,
      "outputs": [
        {
          "output_type": "execute_result",
          "data": {
            "text/plain": [
              "(2, 3)"
            ]
          },
          "metadata": {},
          "execution_count": 10
        }
      ]
    },
    {
      "cell_type": "code",
      "source": [
        "a.size"
      ],
      "metadata": {
        "colab": {
          "base_uri": "https://localhost:8080/"
        },
        "id": "PHS0H20E_sjR",
        "outputId": "cbb3c9c1-3693-47a7-fde4-a6c7bee601a5"
      },
      "execution_count": 11,
      "outputs": [
        {
          "output_type": "execute_result",
          "data": {
            "text/plain": [
              "6"
            ]
          },
          "metadata": {},
          "execution_count": 11
        }
      ]
    },
    {
      "cell_type": "code",
      "source": [
        "#hands on\n",
        "\n",
        "array1=np.array([1,2,3,4,5])\n",
        "array2=np.array([6,7,8,9,10])\n",
        "\n",
        "print(\"ARITHMETIC OPERATIONS\")\n",
        "\n",
        "print(\"ADDITION = \", array1 + array2)\n",
        "print(\"SUBTRACTION = \", array1 - array2)\n",
        "print(\"MULTIPLICATION = \", array1 * array2)\n",
        "print(\"DIVISION = \", array1 / array2)"
      ],
      "metadata": {
        "colab": {
          "base_uri": "https://localhost:8080/"
        },
        "id": "QSNW10B8_wGC",
        "outputId": "53dbc769-cb16-4d88-c866-d67d3b01a4c7"
      },
      "execution_count": 12,
      "outputs": [
        {
          "output_type": "stream",
          "name": "stdout",
          "text": [
            "ARITHMETIC OPERATIONS\n",
            "ADDITION =  [ 7  9 11 13 15]\n",
            "SUBTRACTION =  [-5 -5 -5 -5 -5]\n",
            "MULTIPLICATION =  [ 6 14 24 36 50]\n",
            "DIVISION =  [0.16666667 0.28571429 0.375      0.44444444 0.5       ]\n"
          ]
        }
      ]
    },
    {
      "cell_type": "code",
      "source": [
        "np.max(array1)"
      ],
      "metadata": {
        "colab": {
          "base_uri": "https://localhost:8080/"
        },
        "id": "WyaJa4jFAu7L",
        "outputId": "f5a47044-69c2-4591-a40f-9ab681afe1b2"
      },
      "execution_count": 16,
      "outputs": [
        {
          "output_type": "execute_result",
          "data": {
            "text/plain": [
              "5"
            ]
          },
          "metadata": {},
          "execution_count": 16
        }
      ]
    },
    {
      "cell_type": "code",
      "source": [
        "np.min(array2)"
      ],
      "metadata": {
        "colab": {
          "base_uri": "https://localhost:8080/"
        },
        "id": "I_rQcgarBWeB",
        "outputId": "e80648b2-d4af-4c55-d8c4-5310e29824a9"
      },
      "execution_count": 17,
      "outputs": [
        {
          "output_type": "execute_result",
          "data": {
            "text/plain": [
              "6"
            ]
          },
          "metadata": {},
          "execution_count": 17
        }
      ]
    },
    {
      "cell_type": "code",
      "source": [
        "np.std(array1)"
      ],
      "metadata": {
        "colab": {
          "base_uri": "https://localhost:8080/"
        },
        "id": "ywXdol_-Bmwm",
        "outputId": "8ea897a7-ad71-490d-900c-cf19b893c92f"
      },
      "execution_count": 18,
      "outputs": [
        {
          "output_type": "execute_result",
          "data": {
            "text/plain": [
              "1.4142135623730951"
            ]
          },
          "metadata": {},
          "execution_count": 18
        }
      ]
    },
    {
      "cell_type": "code",
      "source": [
        "np.zeros(5)"
      ],
      "metadata": {
        "colab": {
          "base_uri": "https://localhost:8080/"
        },
        "id": "acMa5F-6B48i",
        "outputId": "2d76a443-b04c-4b3e-f3fb-ca0c71a168d7"
      },
      "execution_count": 19,
      "outputs": [
        {
          "output_type": "execute_result",
          "data": {
            "text/plain": [
              "array([0., 0., 0., 0., 0.])"
            ]
          },
          "metadata": {},
          "execution_count": 19
        }
      ]
    },
    {
      "cell_type": "code",
      "source": [
        "np.ones(3)"
      ],
      "metadata": {
        "colab": {
          "base_uri": "https://localhost:8080/"
        },
        "id": "lHIOsL7JCBpV",
        "outputId": "7e7a9fab-0a23-4943-d746-fa9a71901727"
      },
      "execution_count": 20,
      "outputs": [
        {
          "output_type": "execute_result",
          "data": {
            "text/plain": [
              "array([1., 1., 1.])"
            ]
          },
          "metadata": {},
          "execution_count": 20
        }
      ]
    },
    {
      "cell_type": "code",
      "source": [
        "np.arange(20)"
      ],
      "metadata": {
        "colab": {
          "base_uri": "https://localhost:8080/"
        },
        "id": "AFkkSoSbCXOh",
        "outputId": "e54bde30-ace7-414b-872a-9bb2fdee5e6d"
      },
      "execution_count": 21,
      "outputs": [
        {
          "output_type": "execute_result",
          "data": {
            "text/plain": [
              "array([ 0,  1,  2,  3,  4,  5,  6,  7,  8,  9, 10, 11, 12, 13, 14, 15, 16,\n",
              "       17, 18, 19])"
            ]
          },
          "metadata": {},
          "execution_count": 21
        }
      ]
    },
    {
      "cell_type": "code",
      "source": [
        "np.arange(0,20,3) #start,stop,step size"
      ],
      "metadata": {
        "colab": {
          "base_uri": "https://localhost:8080/"
        },
        "id": "zujlD-2SCivY",
        "outputId": "4afa35ab-c21d-439a-b733-f4e1d74deb65"
      },
      "execution_count": 22,
      "outputs": [
        {
          "output_type": "execute_result",
          "data": {
            "text/plain": [
              "array([ 0,  3,  6,  9, 12, 15, 18])"
            ]
          },
          "metadata": {},
          "execution_count": 22
        }
      ]
    },
    {
      "cell_type": "code",
      "source": [
        "np.random.random(10000) #it keeps on changes the values - will not able to see the same value"
      ],
      "metadata": {
        "colab": {
          "base_uri": "https://localhost:8080/"
        },
        "id": "zxFdBoMcCrYE",
        "outputId": "1c805044-4ceb-42a7-bb6a-8ee21ef5c3aa"
      },
      "execution_count": 27,
      "outputs": [
        {
          "output_type": "execute_result",
          "data": {
            "text/plain": [
              "array([0.11545639, 0.60813934, 0.36790418, ..., 0.078596  , 0.64888643,\n",
              "       0.34400714])"
            ]
          },
          "metadata": {},
          "execution_count": 27
        }
      ]
    },
    {
      "cell_type": "code",
      "source": [
        "np.random.randint(10000,28465849,5) #going to generate a random integer"
      ],
      "metadata": {
        "colab": {
          "base_uri": "https://localhost:8080/"
        },
        "id": "U2Kdtv0tEBqK",
        "outputId": "7f837f8e-51bd-4dd3-da50-136fb35368ff"
      },
      "execution_count": 29,
      "outputs": [
        {
          "output_type": "execute_result",
          "data": {
            "text/plain": [
              "array([26788830, 14216870, 22676564, 25336961,  8100724])"
            ]
          },
          "metadata": {},
          "execution_count": 29
        }
      ]
    },
    {
      "cell_type": "code",
      "source": [
        "np.concatenate((array1,array2), axis=0) #concatenate in row for axis = 0"
      ],
      "metadata": {
        "colab": {
          "base_uri": "https://localhost:8080/"
        },
        "id": "GNCRBHr5EB20",
        "outputId": "59eff2fe-e25d-4e78-a7ba-bcea0f0d352f"
      },
      "execution_count": 36,
      "outputs": [
        {
          "output_type": "execute_result",
          "data": {
            "text/plain": [
              "array([ 1,  2,  3,  4,  5,  6,  7,  8,  9, 10])"
            ]
          },
          "metadata": {},
          "execution_count": 36
        }
      ]
    },
    {
      "cell_type": "code",
      "source": [
        "np.concatenate((a,b), axis=1) #concatenate in column (vertical) for axis = 1"
      ],
      "metadata": {
        "colab": {
          "base_uri": "https://localhost:8080/"
        },
        "id": "445Vxh33FZK1",
        "outputId": "4d3db5bb-11fa-4a1d-83d2-1551c70d1f70"
      },
      "execution_count": 45,
      "outputs": [
        {
          "output_type": "execute_result",
          "data": {
            "text/plain": [
              "array([[ 1,  2,  3, 10, 20, 30],\n",
              "       [ 4,  5,  6, 40, 50, 60]])"
            ]
          },
          "metadata": {},
          "execution_count": 45
        }
      ]
    },
    {
      "cell_type": "code",
      "source": [
        "#vertical stack\n",
        "np.vstack([array1,array2])"
      ],
      "metadata": {
        "colab": {
          "base_uri": "https://localhost:8080/"
        },
        "id": "o6JV-DB3Fq0J",
        "outputId": "6452acca-2e48-4c84-d3a4-8364bde5e17e"
      },
      "execution_count": 40,
      "outputs": [
        {
          "output_type": "execute_result",
          "data": {
            "text/plain": [
              "array([[ 1,  2,  3,  4,  5],\n",
              "       [ 6,  7,  8,  9, 10]])"
            ]
          },
          "metadata": {},
          "execution_count": 40
        }
      ]
    },
    {
      "cell_type": "code",
      "source": [
        "#horizontal stack\n",
        "np.hstack([array1,array2])"
      ],
      "metadata": {
        "colab": {
          "base_uri": "https://localhost:8080/"
        },
        "id": "ZdaZLXzKGMkg",
        "outputId": "c63321b5-c27a-4138-cdb9-da184eb0bf5e"
      },
      "execution_count": 41,
      "outputs": [
        {
          "output_type": "execute_result",
          "data": {
            "text/plain": [
              "array([ 1,  2,  3,  4,  5,  6,  7,  8,  9, 10])"
            ]
          },
          "metadata": {},
          "execution_count": 41
        }
      ]
    },
    {
      "cell_type": "code",
      "source": [
        "#indexing starts with 0 .... to right(+ve), -1......left(-ve)\n",
        "a=np.array([[1,2,3],[4,5,6]]) #two dimentional array\n",
        "b=np.array([[10,20,30],[40,50,60]])\n",
        "b[1][1]  #here selecting 1 order lists 1 order element"
      ],
      "metadata": {
        "colab": {
          "base_uri": "https://localhost:8080/"
        },
        "id": "6odO1yZtHY7I",
        "outputId": "f6f855aa-e9f1-44a1-9320-1d0b27d5e086"
      },
      "execution_count": 46,
      "outputs": [
        {
          "output_type": "execute_result",
          "data": {
            "text/plain": [
              "50"
            ]
          },
          "metadata": {},
          "execution_count": 46
        }
      ]
    },
    {
      "cell_type": "code",
      "source": [
        "od=np.array([1,2,3,4,5,6])\n",
        "od.reshape(2,3)"
      ],
      "metadata": {
        "colab": {
          "base_uri": "https://localhost:8080/"
        },
        "id": "MvPbyXWrHZho",
        "outputId": "5711de33-0daf-4572-b0c3-7eda2c69aa20"
      },
      "execution_count": 48,
      "outputs": [
        {
          "output_type": "execute_result",
          "data": {
            "text/plain": [
              "array([[1, 2, 3],\n",
              "       [4, 5, 6]])"
            ]
          },
          "metadata": {},
          "execution_count": 48
        }
      ]
    },
    {
      "cell_type": "code",
      "source": [
        "ravel()"
      ],
      "metadata": {
        "id": "cuAJtpi-NBrQ"
      },
      "execution_count": null,
      "outputs": []
    },
    {
      "cell_type": "code",
      "source": [
        "#slicing\n",
        "\n",
        "od[2:4]"
      ],
      "metadata": {
        "colab": {
          "base_uri": "https://localhost:8080/"
        },
        "id": "n6_uUz2KNKx3",
        "outputId": "ad27a9dd-1d78-4f44-9c0e-6568e31fc17a"
      },
      "execution_count": 50,
      "outputs": [
        {
          "output_type": "execute_result",
          "data": {
            "text/plain": [
              "array([3, 4])"
            ]
          },
          "metadata": {},
          "execution_count": 50
        }
      ]
    },
    {
      "cell_type": "code",
      "source": [
        "od = np.array([1, 2, 3, 4, 5, 6], dtype=\"bool\")\n",
        "print(od)"
      ],
      "metadata": {
        "colab": {
          "base_uri": "https://localhost:8080/"
        },
        "id": "A_jrt3ptOPoE",
        "outputId": "ef0183a0-5830-4530-f77e-e632c7630ea7"
      },
      "execution_count": 55,
      "outputs": [
        {
          "output_type": "stream",
          "name": "stdout",
          "text": [
            "[ True  True  True  True  True  True]\n"
          ]
        }
      ]
    }
  ]
}